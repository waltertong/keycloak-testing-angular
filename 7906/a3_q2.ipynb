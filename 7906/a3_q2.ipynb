{
  "nbformat": 4,
  "nbformat_minor": 0,
  "metadata": {
    "colab": {
      "provenance": []
    },
    "kernelspec": {
      "name": "python3",
      "display_name": "Python 3"
    },
    "language_info": {
      "name": "python"
    }
  },
  "cells": [
    {
      "cell_type": "code",
      "execution_count": 4,
      "metadata": {
        "id": "soRYuI10WwlY",
        "outputId": "2df2c742-6486-40f3-98fd-8dd4d1dbb66f",
        "colab": {
          "base_uri": "https://localhost:8080/"
        }
      },
      "outputs": [
        {
          "output_type": "stream",
          "name": "stderr",
          "text": [
            "[nltk_data] Downloading package movie_reviews to /root/nltk_data...\n",
            "[nltk_data]   Package movie_reviews is already up-to-date!\n",
            "[nltk_data] Downloading package stopwords to /root/nltk_data...\n",
            "[nltk_data]   Package stopwords is already up-to-date!\n"
          ]
        },
        {
          "output_type": "stream",
          "name": "stdout",
          "text": [
            "Original first 20 words:\n",
            "[',', 'the', '.', 'a', 'and', 'of', 'to', \"'\", 'is', 'in', 's', '\"', 'it', 'that', '-', ')', '(', 'as', 'with', 'for']\n",
            "\n",
            "After removing punctuation (first 20):\n",
            "['the', 'a', 'and', 'of', 'to', 'is', 'in', 's', 'it', 'that', 'as', 'with', 'for', 'his', 'this', 'film', 'i', 'he', 'but', 'on']\n",
            "\n",
            "After stemming (first 20):\n",
            "['the', 'a', 'and', 'of', 'to', 'is', 'in', 's', 'it', 'that', 'as', 'with', 'for', 'hi', 'thi', 'film', 'i', 'he', 'but', 'on']\n",
            "\n",
            "After removing stop words (first 20):\n",
            "['hi', 'thi', 'film', 'one', 'movi', 'wa', 'ha', 'like', 'even', 'onli', 'good', 'time', 'stori', 'would', 'much', 'charact', 'also', 'get', 'two', 'well']\n",
            "\n",
            "Classification of first test document:\n",
            "Predicted: pos\n",
            "Actual: pos\n",
            "\n",
            "Accuracy: 0.6900\n",
            "\n",
            "Most informative features:\n",
            "Most Informative Features\n",
            "                  seagal = True              neg : pos    =     11.7 : 1.0\n",
            "                   mulan = True              pos : neg    =      8.3 : 1.0\n",
            "                   damon = True              pos : neg    =      6.3 : 1.0\n",
            "                   flynt = True              pos : neg    =      5.7 : 1.0\n",
            "                    lame = True              neg : pos    =      5.6 : 1.0\n"
          ]
        }
      ],
      "source": [
        "import nltk\n",
        "from nltk.corpus import movie_reviews\n",
        "import random\n",
        "import re\n",
        "from nltk.stem.porter import PorterStemmer\n",
        "from nltk.corpus import stopwords\n",
        "\n",
        "# Download NLTK resources\n",
        "nltk.download('movie_reviews')\n",
        "nltk.download('stopwords')\n",
        "\n",
        "# Get all words from the movie reviews and create a frequency distribution\n",
        "all_words = nltk.FreqDist(w.lower() for w in movie_reviews.words())\n",
        "\n",
        "# Get the 2000 most common words as in the original implementation\n",
        "words_features_raw = list(all_words)[:2000]\n",
        "\n",
        "print(\"Original first 20 words:\")\n",
        "print(words_features_raw[:20])\n",
        "\n",
        "# Step 1: Remove punctuation using regex\n",
        "words_features_no_punct = []\n",
        "for word in words_features_raw:\n",
        "    # Remove punctuation from each word\n",
        "    cleaned_word = re.sub(r'[^\\w\\s]', '', word)\n",
        "    if cleaned_word:  # Add only if the word is not empty after cleaning\n",
        "        words_features_no_punct.append(cleaned_word)\n",
        "\n",
        "print(\"\\nAfter removing punctuation (first 20):\")\n",
        "print(words_features_no_punct[:20])\n",
        "\n",
        "# Step 2: Apply stemming\n",
        "porter = PorterStemmer()\n",
        "words_features_stemmed = [porter.stem(word) for word in words_features_no_punct]\n",
        "\n",
        "print(\"\\nAfter stemming (first 20):\")\n",
        "print(words_features_stemmed[:20])\n",
        "\n",
        "# Step 3: Remove stop words\n",
        "stop = stopwords.words('english')\n",
        "words_features = [word for word in words_features_stemmed if word not in stop]\n",
        "\n",
        "print(\"\\nAfter removing stop words (first 20):\")\n",
        "print(words_features[:20])\n",
        "\n",
        "# Now continue with the original procedure as in LN5\n",
        "\n",
        "# Function to extract features from documents\n",
        "def document_features(document):\n",
        "    document_words = set(document)\n",
        "    features = {}\n",
        "    for word in words_features:\n",
        "        features[word] = (word in document_words)\n",
        "    return features\n",
        "\n",
        "# Prepare documents as in the original notebook\n",
        "documents = [(list(movie_reviews.words(fileid)), category)\n",
        "             for category in movie_reviews.categories()\n",
        "             for fileid in movie_reviews.fileids(category)]\n",
        "\n",
        "# Shuffle documents\n",
        "random.shuffle(documents)\n",
        "\n",
        "# Create feature sets\n",
        "featuresets = [(document_features(d), c) for (d, c) in documents]\n",
        "\n",
        "# Split into training and test sets as in the original\n",
        "train_set, test_set = featuresets[100:], featuresets[:100]\n",
        "\n",
        "# Train the classifier\n",
        "model = nltk.NaiveBayesClassifier.train(train_set)\n",
        "\n",
        "# Print classification result for the first test document\n",
        "print(\"\\nClassification of first test document:\")\n",
        "print(f\"Predicted: {model.classify(test_set[0][0])}\")\n",
        "print(f\"Actual: {test_set[0][1]}\")\n",
        "\n",
        "# Calculate and print accuracy\n",
        "accuracy = nltk.classify.accuracy(model, test_set)\n",
        "print(f\"\\nAccuracy: {accuracy:.4f}\")\n",
        "\n",
        "# Show most informative features\n",
        "print(\"\\nMost informative features:\")\n",
        "model.show_most_informative_features(5)"
      ]
    }
  ]
}