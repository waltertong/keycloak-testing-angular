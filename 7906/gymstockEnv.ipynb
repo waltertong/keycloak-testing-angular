{
 "cells": [
  {
   "cell_type": "code",
   "execution_count": 7,
   "id": "miBqK2yPdizF",
   "metadata": {
    "id": "miBqK2yPdizF"
   },
   "outputs": [
    {
     "name": "stdout",
     "output_type": "stream",
     "text": [
      "Requirement already satisfied: yfinance in c:\\users\\hftin\\anaconda3\\envs\\comp7409\\lib\\site-packages (0.1.87)\n",
      "Requirement already satisfied: multitasking>=0.0.7 in c:\\users\\hftin\\anaconda3\\envs\\comp7409\\lib\\site-packages (from yfinance) (0.0.11)\n",
      "Requirement already satisfied: appdirs>=1.4.4 in c:\\users\\hftin\\anaconda3\\envs\\comp7409\\lib\\site-packages (from yfinance) (1.4.4)\n",
      "Requirement already satisfied: numpy>=1.15 in c:\\users\\hftin\\anaconda3\\envs\\comp7409\\lib\\site-packages (from yfinance) (1.19.5)\n",
      "Requirement already satisfied: pandas>=0.24.0 in c:\\users\\hftin\\anaconda3\\envs\\comp7409\\lib\\site-packages (from yfinance) (1.1.5)\n",
      "Requirement already satisfied: requests>=2.26 in c:\\users\\hftin\\anaconda3\\envs\\comp7409\\lib\\site-packages (from yfinance) (2.27.1)\n",
      "Requirement already satisfied: lxml>=4.5.1 in c:\\users\\hftin\\anaconda3\\envs\\comp7409\\lib\\site-packages (from yfinance) (4.6.3)\n",
      "Requirement already satisfied: pytz>=2017.2 in c:\\users\\hftin\\anaconda3\\envs\\comp7409\\lib\\site-packages (from pandas>=0.24.0->yfinance) (2021.3)\n",
      "Requirement already satisfied: python-dateutil>=2.7.3 in c:\\users\\hftin\\anaconda3\\envs\\comp7409\\lib\\site-packages (from pandas>=0.24.0->yfinance) (2.8.2)\n",
      "Requirement already satisfied: six>=1.5 in c:\\users\\hftin\\anaconda3\\envs\\comp7409\\lib\\site-packages (from python-dateutil>=2.7.3->pandas>=0.24.0->yfinance) (1.16.0)\n",
      "Requirement already satisfied: idna<4,>=2.5 in c:\\users\\hftin\\anaconda3\\envs\\comp7409\\lib\\site-packages (from requests>=2.26->yfinance) (3.3)\n",
      "Requirement already satisfied: urllib3<1.27,>=1.21.1 in c:\\users\\hftin\\anaconda3\\envs\\comp7409\\lib\\site-packages (from requests>=2.26->yfinance) (1.26.8)\n",
      "Requirement already satisfied: certifi>=2017.4.17 in c:\\users\\hftin\\anaconda3\\envs\\comp7409\\lib\\site-packages (from requests>=2.26->yfinance) (2021.5.30)\n",
      "Requirement already satisfied: charset-normalizer~=2.0.0 in c:\\users\\hftin\\anaconda3\\envs\\comp7409\\lib\\site-packages (from requests>=2.26->yfinance) (2.0.4)\n"
     ]
    },
    {
     "name": "stderr",
     "output_type": "stream",
     "text": [
      "WARNING: Ignoring invalid distribution -orch (c:\\users\\hftin\\anaconda3\\envs\\comp7409\\lib\\site-packages)\n",
      "WARNING: Ignoring invalid distribution -orch (c:\\users\\hftin\\anaconda3\\envs\\comp7409\\lib\\site-packages)\n",
      "WARNING: Ignoring invalid distribution -orch (c:\\users\\hftin\\anaconda3\\envs\\comp7409\\lib\\site-packages)\n",
      "WARNING: Ignoring invalid distribution -orch (c:\\users\\hftin\\anaconda3\\envs\\comp7409\\lib\\site-packages)\n",
      "WARNING: Ignoring invalid distribution -orch (c:\\users\\hftin\\anaconda3\\envs\\comp7409\\lib\\site-packages)\n",
      "WARNING: Ignoring invalid distribution -orch (c:\\users\\hftin\\anaconda3\\envs\\comp7409\\lib\\site-packages)\n"
     ]
    },
    {
     "name": "stdout",
     "output_type": "stream",
     "text": [
      "Requirement already satisfied: gym-anytrading in c:\\users\\hftin\\anaconda3\\envs\\comp7409\\lib\\site-packages (1.2.0)"
     ]
    },
    {
     "name": "stderr",
     "output_type": "stream",
     "text": [
      "WARNING: Ignoring invalid distribution -orch (c:\\users\\hftin\\anaconda3\\envs\\comp7409\\lib\\site-packages)\n",
      "WARNING: Ignoring invalid distribution -orch (c:\\users\\hftin\\anaconda3\\envs\\comp7409\\lib\\site-packages)\n",
      "WARNING: Ignoring invalid distribution -orch (c:\\users\\hftin\\anaconda3\\envs\\comp7409\\lib\\site-packages)\n",
      "WARNING: Ignoring invalid distribution -orch (c:\\users\\hftin\\anaconda3\\envs\\comp7409\\lib\\site-packages)\n",
      "WARNING: Ignoring invalid distribution -orch (c:\\users\\hftin\\anaconda3\\envs\\comp7409\\lib\\site-packages)\n",
      "WARNING: Ignoring invalid distribution -orch (c:\\users\\hftin\\anaconda3\\envs\\comp7409\\lib\\site-packages)\n"
     ]
    },
    {
     "name": "stdout",
     "output_type": "stream",
     "text": [
      "\n",
      "Requirement already satisfied: gym in c:\\users\\hftin\\anaconda3\\envs\\comp7409\\lib\\site-packages (0.15.7)\n",
      "Requirement already satisfied: pandas>=0.24.2 in c:\\users\\hftin\\anaconda3\\envs\\comp7409\\lib\\site-packages (from gym-anytrading) (1.1.5)\n",
      "Requirement already satisfied: matplotlib>=3.1.1 in c:\\users\\hftin\\anaconda3\\envs\\comp7409\\lib\\site-packages (from gym-anytrading) (3.3.4)\n",
      "Requirement already satisfied: numpy>=1.16.4 in c:\\users\\hftin\\anaconda3\\envs\\comp7409\\lib\\site-packages (from gym-anytrading) (1.19.5)\n",
      "Requirement already satisfied: cloudpickle~=1.2.0 in c:\\users\\hftin\\anaconda3\\envs\\comp7409\\lib\\site-packages (from gym) (1.2.2)\n",
      "Requirement already satisfied: scipy in c:\\users\\hftin\\anaconda3\\envs\\comp7409\\lib\\site-packages (from gym) (1.5.2)\n",
      "Requirement already satisfied: pyglet<=1.5.0,>=1.4.0 in c:\\users\\hftin\\anaconda3\\envs\\comp7409\\lib\\site-packages (from gym) (1.5.0)\n",
      "Requirement already satisfied: six in c:\\users\\hftin\\anaconda3\\envs\\comp7409\\lib\\site-packages (from gym) (1.16.0)\n",
      "Requirement already satisfied: cycler>=0.10 in c:\\users\\hftin\\anaconda3\\envs\\comp7409\\lib\\site-packages (from matplotlib>=3.1.1->gym-anytrading) (0.11.0)\n",
      "Requirement already satisfied: kiwisolver>=1.0.1 in c:\\users\\hftin\\anaconda3\\envs\\comp7409\\lib\\site-packages (from matplotlib>=3.1.1->gym-anytrading) (1.3.1)\n",
      "Requirement already satisfied: python-dateutil>=2.1 in c:\\users\\hftin\\anaconda3\\envs\\comp7409\\lib\\site-packages (from matplotlib>=3.1.1->gym-anytrading) (2.8.2)\n",
      "Requirement already satisfied: pillow>=6.2.0 in c:\\users\\hftin\\anaconda3\\envs\\comp7409\\lib\\site-packages (from matplotlib>=3.1.1->gym-anytrading) (8.3.1)\n",
      "Requirement already satisfied: pyparsing!=2.0.4,!=2.1.2,!=2.1.6,>=2.0.3 in c:\\users\\hftin\\anaconda3\\envs\\comp7409\\lib\\site-packages (from matplotlib>=3.1.1->gym-anytrading) (3.0.4)\n",
      "Requirement already satisfied: pytz>=2017.2 in c:\\users\\hftin\\anaconda3\\envs\\comp7409\\lib\\site-packages (from pandas>=0.24.2->gym-anytrading) (2021.3)\n",
      "Requirement already satisfied: future in c:\\users\\hftin\\anaconda3\\envs\\comp7409\\lib\\site-packages (from pyglet<=1.5.0,>=1.4.0->gym) (0.18.2)\n"
     ]
    }
   ],
   "source": [
    "!pip install yfinance\n",
    "!pip install gym-anytrading gym "
   ]
  },
  {
   "cell_type": "code",
   "execution_count": 8,
   "id": "508e66b3",
   "metadata": {
    "id": "508e66b3"
   },
   "outputs": [],
   "source": [
    "import yfinance as yf\n",
    "import gym\n",
    "import gym_anytrading\n",
    "\n",
    "import numpy as np\n",
    "import pandas as pd\n",
    "from pylab import plt"
   ]
  },
  {
   "cell_type": "code",
   "execution_count": null,
   "id": "9_XEHYJdb62a",
   "metadata": {
    "colab": {
     "base_uri": "https://localhost:8080/"
    },
    "id": "9_XEHYJdb62a",
    "outputId": "8ade4b0f-9c02-4423-fb78-3bdd5c161c21"
   },
   "outputs": [],
   "source": [
    "start = '2020-01-01'\n",
    "end = '2021-06-30'\n",
    "df = yf.download('0066.HK', start=start, end=end)"
   ]
  },
  {
   "cell_type": "code",
   "execution_count": null,
   "id": "M7jd-sPIgvpO",
   "metadata": {
    "colab": {
     "base_uri": "https://localhost:8080/",
     "height": 374
    },
    "id": "M7jd-sPIgvpO",
    "outputId": "5a17e6a4-0624-4249-b438-74142335a3d6"
   },
   "outputs": [],
   "source": [
    "plt.figure(figsize=(15,6))\n",
    "plt.plot(df['Close'])\n",
    "plt.show()"
   ]
  },
  {
   "cell_type": "code",
   "execution_count": 31,
   "id": "7vH-o0NshcB1",
   "metadata": {
    "id": "7vH-o0NshcB1"
   },
   "outputs": [],
   "source": [
    "env = gym.make('stocks-v0', df=df, frame_bound=(5,200), window_size=5)\n",
    "state = env.reset()"
   ]
  },
  {
   "cell_type": "code",
   "execution_count": 32,
   "id": "5yMk4-KfYDOQ",
   "metadata": {
    "colab": {
     "base_uri": "https://localhost:8080/"
    },
    "id": "5yMk4-KfYDOQ",
    "outputId": "b81b411a-b47d-4155-db5b-11fd1885fe36"
   },
   "outputs": [
    {
     "data": {
      "text/plain": [
       "array([[45.70000076, -0.20000076],\n",
       "       [45.5       , -0.20000076],\n",
       "       [45.20000076, -0.29999924],\n",
       "       [45.25      ,  0.04999924],\n",
       "       [46.04999924,  0.79999924]])"
      ]
     },
     "execution_count": 32,
     "metadata": {},
     "output_type": "execute_result"
    }
   ],
   "source": [
    "state"
   ]
  },
  {
   "cell_type": "code",
   "execution_count": 33,
   "id": "VCR0u5erVwba",
   "metadata": {
    "colab": {
     "base_uri": "https://localhost:8080/"
    },
    "id": "VCR0u5erVwba",
    "outputId": "8d629a95-ad4c-4205-e2d0-7e47339acf73"
   },
   "outputs": [
    {
     "data": {
      "text/plain": [
       "array([45.90000153, 45.70000076, 45.5       , 45.20000076, 45.25      ,\n",
       "       46.04999924, 46.40000153, 47.09999847, 47.45000076, 47.20000076,\n",
       "       46.95000076, 47.79999924, 47.29999924, 46.65000153, 47.15000153,\n",
       "       46.20000076, 46.15000153, 44.95000076, 44.15000153, 43.90000153,\n",
       "       43.70000076, 43.75      , 43.54999924, 44.5       , 44.45000076,\n",
       "       44.59999847, 44.84999847, 45.15000153, 45.15000153, 45.25      ,\n",
       "       45.65000153, 45.15000153, 45.20000076, 44.65000153, 44.45000076,\n",
       "       43.90000153, 43.70000076, 43.79999924, 44.04999924, 43.84999847,\n",
       "       43.04999924, 43.29999924, 43.04999924, 43.45000076, 42.65000153,\n",
       "       41.34999847, 42.09999847, 42.15000153, 40.95000076, 40.59999847,\n",
       "       38.95000076, 39.70000076, 38.84999847, 38.79999924, 40.40000153,\n",
       "       38.20000076, 39.34999847, 40.40000153, 40.54999924, 40.29999924,\n",
       "       39.5       , 40.04999924, 39.54999924, 39.95000076, 41.29999924,\n",
       "       41.45000076, 42.40000153, 41.90000153, 42.29999924, 43.        ,\n",
       "       42.75      , 42.34999847, 43.15000153, 42.09999847, 41.65000153,\n",
       "       41.70000076, 41.90000153, 41.25      , 41.79999924, 42.65000153,\n",
       "       43.04999924, 41.29999924, 42.40000153, 43.        , 42.84999847,\n",
       "       42.70000076, 42.79999924, 42.45000076, 41.79999924, 41.04999924,\n",
       "       41.29999924, 41.40000153, 42.09999847, 42.5       , 42.20000076,\n",
       "       38.04999924, 37.40000153, 37.79999924, 37.75      , 36.84999847,\n",
       "       37.15000153, 38.40000153, 39.09999847, 39.70000076, 39.54999924,\n",
       "       40.70000076, 41.15000153, 42.59999847, 41.59999847, 40.70000076,\n",
       "       40.84999847, 39.54999924, 40.04999924, 40.04999924, 40.25      ,\n",
       "       40.15000153, 39.45000076, 40.54999924, 40.40000153, 40.34999847,\n",
       "       39.40000153, 40.15000153, 41.65000153, 41.54999924, 42.84999847,\n",
       "       42.15000153, 41.15000153, 40.09999847, 39.75      , 39.20000076,\n",
       "       39.09999847, 38.84999847, 39.20000076, 39.09999847, 38.79999924,\n",
       "       38.95000076, 38.54999924, 38.40000153, 38.29999924, 38.09999847,\n",
       "       38.40000153, 37.95000076, 38.40000153, 38.5       , 38.75      ,\n",
       "       39.65000153, 39.5       , 39.40000153, 39.09999847, 39.95000076,\n",
       "       40.        , 40.90000153, 40.59999847, 40.34999847, 40.25      ,\n",
       "       40.5       , 40.20000076, 40.        , 40.04999924, 40.70000076,\n",
       "       40.79999924, 40.59999847, 40.54999924, 40.59999847, 40.34999847,\n",
       "       40.40000153, 40.34999847, 40.79999924, 40.04999924, 40.04999924,\n",
       "       39.95000076, 39.95000076, 39.54999924, 39.45000076, 39.20000076,\n",
       "       39.65000153, 39.75      , 40.45000076, 40.34999847, 40.15000153,\n",
       "       40.15000153, 40.5       , 39.59999847, 39.70000076, 39.45000076,\n",
       "       38.40000153, 38.25      , 37.90000153, 38.79999924, 39.25      ,\n",
       "       38.75      , 38.65000153, 39.09999847, 39.29999924, 38.95000076,\n",
       "       38.59999847, 39.        , 39.04999924, 38.79999924, 38.75      ])"
      ]
     },
     "execution_count": 33,
     "metadata": {},
     "output_type": "execute_result"
    }
   ],
   "source": [
    "env.prices"
   ]
  },
  {
   "cell_type": "code",
   "execution_count": 34,
   "id": "qCtRbyRyWLgD",
   "metadata": {
    "colab": {
     "base_uri": "https://localhost:8080/"
    },
    "id": "qCtRbyRyWLgD",
    "outputId": "ec608eb8-2018-4ffa-b1ca-7ec71d236ce5"
   },
   "outputs": [
    {
     "data": {
      "text/plain": [
       "array([[45.70000076, -0.20000076],\n",
       "       [45.5       , -0.20000076],\n",
       "       [45.20000076, -0.29999924],\n",
       "       [45.25      ,  0.04999924],\n",
       "       [46.04999924,  0.79999924]])"
      ]
     },
     "execution_count": 34,
     "metadata": {},
     "output_type": "execute_result"
    }
   ],
   "source": [
    "state"
   ]
  },
  {
   "cell_type": "code",
   "execution_count": 35,
   "id": "ekRKpmkv40Sz",
   "metadata": {
    "colab": {
     "base_uri": "https://localhost:8080/"
    },
    "id": "ekRKpmkv40Sz",
    "outputId": "5fb67a05-f2d5-4bd5-b5b4-7cf85d7cd60c"
   },
   "outputs": [
    {
     "data": {
      "text/plain": [
       "0"
      ]
     },
     "execution_count": 35,
     "metadata": {},
     "output_type": "execute_result"
    }
   ],
   "source": [
    "env.action_space.sample()\n"
   ]
  },
  {
   "cell_type": "code",
   "execution_count": 36,
   "id": "HxSpwg_3Yj7f",
   "metadata": {
    "colab": {
     "base_uri": "https://localhost:8080/"
    },
    "id": "HxSpwg_3Yj7f",
    "outputId": "85166ba7-7d93-4c7b-b6ff-c4f661e9ff94"
   },
   "outputs": [
    {
     "data": {
      "text/plain": [
       "(array([[45.5       , -0.20000076],\n",
       "        [45.20000076, -0.29999924],\n",
       "        [45.25      ,  0.04999924],\n",
       "        [46.04999924,  0.79999924],\n",
       "        [46.40000153,  0.35000229]]),\n",
       " 0,\n",
       " False,\n",
       " {'position': 0, 'total_profit': 1.0, 'total_reward': 0.0})"
      ]
     },
     "execution_count": 36,
     "metadata": {},
     "output_type": "execute_result"
    }
   ],
   "source": [
    "env.step(0)"
   ]
  },
  {
   "cell_type": "code",
   "execution_count": 37,
   "id": "917bc623",
   "metadata": {
    "colab": {
     "base_uri": "https://localhost:8080/",
     "height": 434
    },
    "id": "917bc623",
    "outputId": "f914dbc5-c3f0-42b5-a4cc-d872e5252a57",
    "scrolled": true
   },
   "outputs": [
    {
     "name": "stdout",
     "output_type": "stream",
     "text": [
      "info {'total_reward': -11.64999008178711, 'total_profit': 0.3647020033634281, 'position': 0}\n"
     ]
    },
    {
     "data": {
      "image/png": "[encoded data removed]",
      "text/plain": [
       "<Figure size 1080x432 with 1 Axes>"
      ]
     },
     "metadata": {
      "needs_background": "light"
     },
     "output_type": "display_data"
    }
   ],
   "source": [
    "while True:\n",
    "    action = env.action_space.sample()\n",
    "    obser, reward, done, info = env.step(action)\n",
    "    if done:\n",
    "        print('info', info)\n",
    "        break\n",
    "plt.figure(figsize=(15,6))\n",
    "env.render_all()\n",
    "plt.show()"
   ]
  }
 ],
 "metadata": {
  "colab": {
   "collapsed_sections": [],
   "name": "gymstockEnv.ipynb",
   "provenance": []
  },
  "kernelspec": {
   "display_name": "Python 3",
   "language": "python",
   "name": "python3"
  },
  "language_info": {
   "codemirror_mode": {
    "name": "ipython",
    "version": 3
   },
   "file_extension": ".py",
   "mimetype": "text/x-python",
   "name": "python",
   "nbconvert_exporter": "python",
   "pygments_lexer": "ipython3",
   "version": "3.6.13"
  }
 },
 "nbformat": 4,
 "nbformat_minor": 5
}
