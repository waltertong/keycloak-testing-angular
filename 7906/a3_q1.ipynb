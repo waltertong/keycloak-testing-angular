{
  "nbformat": 4,
  "nbformat_minor": 0,
  "metadata": {
    "colab": {
      "provenance": []
    },
    "kernelspec": {
      "name": "python3",
      "display_name": "Python 3"
    },
    "language_info": {
      "name": "python"
    }
  },
  "cells": [
    {
      "cell_type": "code",
      "source": [
        "# Install and import\n",
        "!pip install nltk --quiet\n",
        "import nltk\n",
        "nltk.download('vader_lexicon')\n",
        "from nltk.sentiment.vader import SentimentIntensityAnalyzer\n",
        "\n",
        "# Sentences\n",
        "sentences = [\n",
        "    \"I love studying CS Master's at HKU. The classes are new and fun!\",\n",
        "    \"The teachers in HKU's CS Master's are smart and helpful.\",\n",
        "    \"I am excited about AI research at HKU's CS department.\",\n",
        "    \"Studying CS Master's at HKU is great. The school has good tools.\",\n",
        "    \"The classes in HKU's CS Master's are hard but good.\",\n",
        "    \"I feel okay about the work in HKU's CS program. I can handle it with planning.\",\n",
        "    \"The events in HKU's CS Master's help me meet job people.\",\n",
        "    \"I worry about the high cost of HKU's CS Master's, but it is good quality.\",\n",
        "    \"The team projects in HKU's CS Master's are fun and teach real skills.\",\n",
        "    \"I think HKU's CS Master's is very good for people who like tech.\"\n",
        "]\n",
        "\n",
        "# Sentiment analysis\n",
        "sid = SentimentIntensityAnalyzer()\n",
        "scores = []\n",
        "for idx, sentence in enumerate(sentences, 1):\n",
        "    score = sid.polarity_scores(sentence)['compound']\n",
        "    print(f\"{idx}. \\\"{sentence}\\\"\\n   Sentiment Score: {score}\")\n",
        "    scores.append(score)\n",
        "\n",
        "average_score = sum(scores) / len(scores)\n",
        "print(f\"\\nAverage Sentiment Score of the 10 sentences: {average_score:.3f}\")"
      ],
      "metadata": {
        "colab": {
          "base_uri": "https://localhost:8080/"
        },
        "id": "UoOp1BaPVWgm",
        "outputId": "2a321f58-b826-471c-b0c2-93affd2c206f"
      },
      "execution_count": 1,
      "outputs": [
        {
          "output_type": "stream",
          "name": "stdout",
          "text": [
            "1. \"I love studying CS Master's at HKU. The classes are new and fun!\"\n",
            "   Sentiment Score: 0.8313\n",
            "2. \"The teachers in HKU's CS Master's are smart and helpful.\"\n",
            "   Sentiment Score: 0.6705\n",
            "3. \"I am excited about AI research at HKU's CS department.\"\n",
            "   Sentiment Score: 0.34\n",
            "4. \"Studying CS Master's at HKU is great. The school has good tools.\"\n",
            "   Sentiment Score: 0.7906\n",
            "5. \"The classes in HKU's CS Master's are hard but good.\"\n",
            "   Sentiment Score: 0.5647\n",
            "6. \"I feel okay about the work in HKU's CS program. I can handle it with planning.\"\n",
            "   Sentiment Score: 0.2263\n",
            "7. \"The events in HKU's CS Master's help me meet job people.\"\n",
            "   Sentiment Score: 0.4019\n",
            "8. \"I worry about the high cost of HKU's CS Master's, but it is good quality.\"\n",
            "   Sentiment Score: 0.4404\n",
            "9. \"The team projects in HKU's CS Master's are fun and teach real skills.\"\n",
            "   Sentiment Score: 0.5106\n",
            "10. \"I think HKU's CS Master's is very good for people who like tech.\"\n",
            "   Sentiment Score: 0.6901\n",
            "\n",
            "Average Sentiment Score of the 10 sentences: 0.547\n"
          ]
        },
        {
          "output_type": "stream",
          "name": "stderr",
          "text": [
            "[nltk_data] Downloading package vader_lexicon to /root/nltk_data...\n"
          ]
        }
      ]
    }
  ]
}