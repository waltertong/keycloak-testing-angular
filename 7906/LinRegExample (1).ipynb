{
 "cells": [
  {
   "cell_type": "markdown",
   "id": "a4089464",
   "metadata": {
    "id": "a4089464"
   },
   "source": [
    "# Import the necessary libraries"
   ]
  },
  {
   "cell_type": "code",
   "execution_count": 1,
   "id": "db99be54",
   "metadata": {
    "executionInfo": {
     "elapsed": 294,
     "status": "ok",
     "timestamp": 1694610420017,
     "user": {
      "displayName": "Hing Fung Ting",
      "userId": "02476900964212501609"
     },
     "user_tz": -480
    },
    "id": "db99be54"
   },
   "outputs": [
    {
     "name": "stderr",
     "output_type": "stream",
     "text": [
      "C:\\Users\\hftin\\anaconda3\\lib\\site-packages\\scipy\\__init__.py:146: UserWarning: A NumPy version >=1.16.5 and <1.23.0 is required for this version of SciPy (detected version 1.26.4\n",
      "  warnings.warn(f\"A NumPy version >={np_minversion} and <{np_maxversion}\"\n"
     ]
    }
   ],
   "source": [
    "import matplotlib.pyplot as plt\n",
    "import numpy as np\n",
    "from sklearn.linear_model import LinearRegression"
   ]
  },
  {
   "cell_type": "markdown",
   "id": "01a0c8d2",
   "metadata": {
    "id": "01a0c8d2"
   },
   "source": [
    "# Prepare the data"
   ]
  },
  {
   "cell_type": "code",
   "execution_count": 2,
   "id": "9e20c6dd",
   "metadata": {
    "executionInfo": {
     "elapsed": 287,
     "status": "ok",
     "timestamp": 1694610422062,
     "user": {
      "displayName": "Hing Fung Ting",
      "userId": "02476900964212501609"
     },
     "user_tz": -480
    },
    "id": "9e20c6dd",
    "scrolled": true
   },
   "outputs": [],
   "source": [
    "x = np.array([10,12,16,20,24,26]).reshape((-1,1))\n",
    "y = np.array([4,5,7,10,15, 16])"
   ]
  },
  {
   "cell_type": "code",
   "execution_count": 3,
   "id": "7f15492c",
   "metadata": {},
   "outputs": [
    {
     "data": {
      "text/plain": [
       "array([[10],\n",
       "       [12],\n",
       "       [16],\n",
       "       [20],\n",
       "       [24],\n",
       "       [26]])"
      ]
     },
     "execution_count": 3,
     "metadata": {},
     "output_type": "execute_result"
    }
   ],
   "source": [
    "x"
   ]
  },
  {
   "cell_type": "markdown",
   "id": "c3c90d56",
   "metadata": {
    "id": "c3c90d56"
   },
   "source": [
    "# Train a linear regression model"
   ]
  },
  {
   "cell_type": "code",
   "execution_count": 4,
   "id": "dc8e1d18",
   "metadata": {
    "executionInfo": {
     "elapsed": 308,
     "status": "ok",
     "timestamp": 1694610424374,
     "user": {
      "displayName": "Hing Fung Ting",
      "userId": "02476900964212501609"
     },
     "user_tz": -480
    },
    "id": "dc8e1d18"
   },
   "outputs": [],
   "source": [
    "model = LinearRegression().fit(x,y)"
   ]
  },
  {
   "cell_type": "code",
   "execution_count": 5,
   "id": "70cbfef2",
   "metadata": {
    "colab": {
     "base_uri": "https://localhost:8080/"
    },
    "id": "70cbfef2",
    "outputId": "64ef620b-c171-4744-e7a1-ab4af9b18eae"
   },
   "outputs": [
    {
     "data": {
      "text/plain": [
       "[<matplotlib.lines.Line2D at 0x1bbac8e0fa0>]"
      ]
     },
     "execution_count": 5,
     "metadata": {},
     "output_type": "execute_result"
    },
    {
     "data": {
      "image/png": "[encoded data removed]",
      "text/plain": [
       "<Figure size 720x432 with 1 Axes>"
      ]
     },
     "metadata": {
      "needs_background": "light"
     },
     "output_type": "display_data"
    }
   ],
   "source": [
    "y_pred = model.predict(x)\n",
    "\n",
    "plt.figure(figsize=(10,6))\n",
    "plt.scatter(x,y)\n",
    "plt.scatter(x,y_pred,color='r')\n",
    "x_seq = np.linspace(x.min(), x.max(), 15).reshape((-1,1))\n",
    "plt.plot(x_seq, model.predict(x_seq))"
   ]
  },
  {
   "cell_type": "code",
   "execution_count": 6,
   "id": "f559b6ce",
   "metadata": {
    "colab": {
     "base_uri": "https://localhost:8080/"
    },
    "executionInfo": {
     "elapsed": 304,
     "status": "ok",
     "timestamp": 1687663024149,
     "user": {
      "displayName": "Hing Fung Ting",
      "userId": "02476900964212501609"
     },
     "user_tz": -480
    },
    "id": "f559b6ce",
    "outputId": "ed4a6b99-a41b-4b6f-8b85-d1db574922da",
    "scrolled": true
   },
   "outputs": [
    {
     "name": "stdout",
     "output_type": "stream",
     "text": [
      "[-0.15769231  0.3875    ]\n"
     ]
    }
   ],
   "source": [
    "print(model.predict([[5.6],[6.3]]))"
   ]
  },
  {
   "cell_type": "code",
   "execution_count": 7,
   "id": "83312b1d",
   "metadata": {},
   "outputs": [
    {
     "data": {
      "text/plain": [
       "26"
      ]
     },
     "execution_count": 7,
     "metadata": {},
     "output_type": "execute_result"
    }
   ],
   "source": [
    "x_seq\n",
    "x.max()"
   ]
  }
 ],
 "metadata": {
  "colab": {
   "provenance": []
  },
  "kernelspec": {
   "display_name": "Python 3 (ipykernel)",
   "language": "python",
   "name": "python3"
  },
  "language_info": {
   "codemirror_mode": {
    "name": "ipython",
    "version": 3
   },
   "file_extension": ".py",
   "mimetype": "text/x-python",
   "name": "python",
   "nbconvert_exporter": "python",
   "pygments_lexer": "ipython3",
   "version": "3.9.7"
  }
 },
 "nbformat": 4,
 "nbformat_minor": 5
}
