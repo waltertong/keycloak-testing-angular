{
 "cells": [
  {
   "cell_type": "markdown",
   "id": "117cf3b9",
   "metadata": {
    "id": "117cf3b9"
   },
   "source": [
    "# Import the library tree for building decision tree model"
   ]
  },
  {
   "cell_type": "code",
   "execution_count": 1,
   "id": "bd928e16",
   "metadata": {
    "executionInfo": {
     "elapsed": 1733,
     "status": "ok",
     "timestamp": 1694609764162,
     "user": {
      "displayName": "Hing Fung Ting",
      "userId": "02476900964212501609"
     },
     "user_tz": -480
    },
    "id": "bd928e16"
   },
   "outputs": [
    {
     "name": "stderr",
     "output_type": "stream",
     "text": [
      "C:\\Users\\hftin\\anaconda3\\lib\\site-packages\\scipy\\__init__.py:146: UserWarning: A NumPy version >=1.16.5 and <1.23.0 is required for this version of SciPy (detected version 1.26.4\n",
      "  warnings.warn(f\"A NumPy version >={np_minversion} and <{np_maxversion}\"\n"
     ]
    }
   ],
   "source": [
    "from sklearn import tree\n",
    "import numpy as np"
   ]
  },
  {
   "cell_type": "markdown",
   "id": "1bf07f2f",
   "metadata": {
    "id": "1bf07f2f"
   },
   "source": [
    "# Prepare the data"
   ]
  },
  {
   "cell_type": "code",
   "execution_count": 2,
   "id": "5b5b1e15",
   "metadata": {
    "executionInfo": {
     "elapsed": 298,
     "status": "ok",
     "timestamp": 1694609798220,
     "user": {
      "displayName": "Hing Fung Ting",
      "userId": "02476900964212501609"
     },
     "user_tz": -480
    },
    "id": "5b5b1e15"
   },
   "outputs": [],
   "source": [
    "features = ['color', 'width', 'height']\n",
    "fruitnames=['apple', 'pear']\n",
    "\n",
    "data =np.array( [[10, 5.3, 4.8], [62, 5.5, 7.8], [85, 5.7, 4.9], [58, 6.8, 5.9],\n",
    "       [15, 8.6, 7.7], [100, 5.4, 8.2], [22, 5.8, 5.6], [71, 4.5, 6.3]])\n",
    "labels = np.array([0, 1, 0, 1, 0, 1, 0, 1])"
   ]
  },
  {
   "cell_type": "markdown",
   "id": "20fadd66",
   "metadata": {
    "id": "20fadd66"
   },
   "source": [
    "# Train a Decision Tree model for classifying apple and pear"
   ]
  },
  {
   "cell_type": "code",
   "execution_count": 3,
   "id": "9f6df8ea",
   "metadata": {
    "executionInfo": {
     "elapsed": 5,
     "status": "ok",
     "timestamp": 1694609769225,
     "user": {
      "displayName": "Hing Fung Ting",
      "userId": "02476900964212501609"
     },
     "user_tz": -480
    },
    "id": "9f6df8ea"
   },
   "outputs": [],
   "source": [
    "fruit_classifier = tree.DecisionTreeClassifier()"
   ]
  },
  {
   "cell_type": "code",
   "execution_count": 4,
   "id": "05e47ea7",
   "metadata": {
    "executionInfo": {
     "elapsed": 6,
     "status": "ok",
     "timestamp": 1694609771266,
     "user": {
      "displayName": "Hing Fung Ting",
      "userId": "02476900964212501609"
     },
     "user_tz": -480
    },
    "id": "05e47ea7"
   },
   "outputs": [],
   "source": [
    "fruit_classifier = fruit_classifier.fit(data, labels)"
   ]
  },
  {
   "cell_type": "code",
   "execution_count": 5,
   "id": "439ffe36",
   "metadata": {
    "colab": {
     "base_uri": "https://localhost:8080/"
    },
    "executionInfo": {
     "elapsed": 433,
     "status": "ok",
     "timestamp": 1694609773666,
     "user": {
      "displayName": "Hing Fung Ting",
      "userId": "02476900964212501609"
     },
     "user_tz": -480
    },
    "id": "439ffe36",
    "outputId": "c42e6312-d4e5-407c-b5f8-4e15a60efb08"
   },
   "outputs": [
    {
     "data": {
      "text/plain": [
       "array([1, 0, 0])"
      ]
     },
     "execution_count": 5,
     "metadata": {},
     "output_type": "execute_result"
    }
   ],
   "source": [
    "predit = fruit_classifier.predict(np.array([[101, 6.3, 7.9],[25, 4.5, 3.8],[85, 5.2, 4.0]]))\n",
    "predit"
   ]
  },
  {
   "cell_type": "code",
   "execution_count": 6,
   "id": "mpzqX9ceRj3I",
   "metadata": {
    "colab": {
     "base_uri": "https://localhost:8080/"
    },
    "executionInfo": {
     "elapsed": 334,
     "status": "ok",
     "timestamp": 1694609776566,
     "user": {
      "displayName": "Hing Fung Ting",
      "userId": "02476900964212501609"
     },
     "user_tz": -480
    },
    "id": "mpzqX9ceRj3I",
    "outputId": "864aab29-4488-4a42-c1e1-a84487de0cba"
   },
   "outputs": [
    {
     "data": {
      "text/plain": [
       "['pear', 'apple', 'apple']"
      ]
     },
     "execution_count": 6,
     "metadata": {},
     "output_type": "execute_result"
    }
   ],
   "source": [
    "list(map(lambda i: fruitnames[i], predit))"
   ]
  },
  {
   "cell_type": "markdown",
   "id": "111a9a94",
   "metadata": {
    "id": "111a9a94"
   },
   "source": [
    "# Draw the tree model"
   ]
  },
  {
   "cell_type": "code",
   "execution_count": 7,
   "id": "e6f4c66e",
   "metadata": {
    "colab": {
     "base_uri": "https://localhost:8080/",
     "height": 493
    },
    "executionInfo": {
     "elapsed": 1525,
     "status": "ok",
     "timestamp": 1694609840222,
     "user": {
      "displayName": "Hing Fung Ting",
      "userId": "02476900964212501609"
     },
     "user_tz": -480
    },
    "id": "e6f4c66e",
    "outputId": "ee4aa257-b447-431c-ffdc-41094113e06b"
   },
   "outputs": [
    {
     "data": {
      "text/plain": [
       "[Text(133.92000000000002, 181.2, 'color <= 40.0\\ngini = 0.5\\nsamples = 8\\nvalue = [4, 4]\\nclass = apple'),\n",
       " Text(66.96000000000001, 108.72, 'gini = 0.0\\nsamples = 3\\nvalue = [3, 0]\\nclass = apple'),\n",
       " Text(200.88000000000002, 108.72, 'height <= 5.4\\ngini = 0.32\\nsamples = 5\\nvalue = [1, 4]\\nclass = pear'),\n",
       " Text(133.92000000000002, 36.23999999999998, 'gini = 0.0\\nsamples = 1\\nvalue = [1, 0]\\nclass = apple'),\n",
       " Text(267.84000000000003, 36.23999999999998, 'gini = 0.0\\nsamples = 4\\nvalue = [0, 4]\\nclass = pear')]"
      ]
     },
     "execution_count": 7,
     "metadata": {},
     "output_type": "execute_result"
    },
    {
     "data": {
      "image/png": "[encoded data removed]",
      "text/plain": [
       "<Figure size 432x288 with 1 Axes>"
      ]
     },
     "metadata": {
      "needs_background": "light"
     },
     "output_type": "display_data"
    }
   ],
   "source": [
    "tree.plot_tree(fruit_classifier, feature_names = features, class_names = fruitnames,\n",
    "              filled = True)"
   ]
  },
  {
   "cell_type": "code",
   "execution_count": 8,
   "id": "9obDwdsbm3mu",
   "metadata": {
    "colab": {
     "base_uri": "https://localhost:8080/"
    },
    "executionInfo": {
     "elapsed": 304,
     "status": "ok",
     "timestamp": 1694609844712,
     "user": {
      "displayName": "Hing Fung Ting",
      "userId": "02476900964212501609"
     },
     "user_tz": -480
    },
    "id": "9obDwdsbm3mu",
    "outputId": "65eb7436-bed0-4bbe-fab9-b14be620acde"
   },
   "outputs": [
    {
     "name": "stdout",
     "output_type": "stream",
     "text": [
      "pear\n"
     ]
    }
   ],
   "source": [
    "print(fruitnames[(fruit_classifier.predict([[101,6.3,7.9]]))[0]])"
   ]
  }
 ],
 "metadata": {
  "colab": {
   "provenance": []
  },
  "kernelspec": {
   "display_name": "Python 3 (ipykernel)",
   "language": "python",
   "name": "python3"
  },
  "language_info": {
   "codemirror_mode": {
    "name": "ipython",
    "version": 3
   },
   "file_extension": ".py",
   "mimetype": "text/x-python",
   "name": "python",
   "nbconvert_exporter": "python",
   "pygments_lexer": "ipython3",
   "version": "3.9.7"
  }
 },
 "nbformat": 4,
 "nbformat_minor": 5
}
